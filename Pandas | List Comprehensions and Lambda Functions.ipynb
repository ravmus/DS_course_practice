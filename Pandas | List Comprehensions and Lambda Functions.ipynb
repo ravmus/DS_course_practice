{
 "cells": [
  {
   "cell_type": "markdown",
   "metadata": {},
   "source": [
    "# Pandas | List Comprehensions and Lambda Functions\n",
    "--- \n",
    "## Concepts:\n",
    "- How to read and work with __`JSON`__ data.\n",
    "- How to use __list comprehensions__ to extract specific values from `JSON` objects\n",
    "- Some of the theory behind passing functions as arguments.\n",
    "- How to create single-use __`lambda`__ functions.\n",
    "- How to use __`lambda`__ functions in __`pandas`__ to extract tags from Hacker News stories."
   ]
  },
  {
   "cell_type": "code",
   "execution_count": 1,
   "metadata": {},
   "outputs": [],
   "source": [
    "import numpy as np\n",
    "import pandas as pd\n",
    "import re \n",
    "# import seaborn as sns\n",
    "# import matplotlib.pyplot as plt\n",
    "# %matplotlib inline"
   ]
  },
  {
   "cell_type": "markdown",
   "metadata": {},
   "source": [
    "### Instructions\n",
    "\n",
    "We have created a JSON string, __`world_cup_str`__, which contains data about games from the 2018 Football World Cup.\n",
    "\n",
    "1. Import the __`json module`__.\n",
    "2. Use __`json.loads()`__ to convert __`world_cup_str`__ to a Python object. Assign the result to __`world_cup_obj`__."
   ]
  },
  {
   "cell_type": "code",
   "execution_count": 2,
   "metadata": {},
   "outputs": [],
   "source": [
    "world_cup_str = \"\"\"\n",
    "[\n",
    "    {\n",
    "        \"team_1\": \"France\",\n",
    "        \"team_2\": \"Croatia\",\n",
    "        \"game_type\": \"Final\",\n",
    "        \"score\" : [4, 2]\n",
    "    },\n",
    "    {\n",
    "        \"team_1\": \"Belgium\",\n",
    "        \"team_2\": \"England\",\n",
    "        \"game_type\": \"3rd/4th Playoff\",\n",
    "        \"score\" : [2, 0]\n",
    "    }\n",
    "]\n",
    "\"\"\"\n",
    "\n",
    "import json\n",
    "world_cup_obj = json.loads(world_cup_str)"
   ]
  },
  {
   "cell_type": "code",
   "execution_count": 3,
   "metadata": {
    "scrolled": true
   },
   "outputs": [
    {
     "name": "stdout",
     "output_type": "stream",
     "text": [
      "<class 'list'>\n"
     ]
    }
   ],
   "source": [
    "import json\n",
    "file = open(\"hn_2014.json\")\n",
    "hn = json.load(file)\n",
    "\n",
    "print(type(hn))"
   ]
  },
  {
   "cell_type": "markdown",
   "metadata": {},
   "source": [
    "Our `hn` variable is a list. Let's find out how many objects are in the list, and the type of the first object (which will almost always be the type of every object in the list in JSON data):"
   ]
  },
  {
   "cell_type": "code",
   "execution_count": 4,
   "metadata": {},
   "outputs": [
    {
     "name": "stdout",
     "output_type": "stream",
     "text": [
      "35806\n",
      "<class 'dict'>\n"
     ]
    }
   ],
   "source": [
    "print(len(hn))\n",
    "print(type(hn[0]))"
   ]
  },
  {
   "cell_type": "markdown",
   "metadata": {},
   "source": [
    "### Instructions \n",
    "The json module remains imported from the previous screen.\n",
    "\n",
    "1. Use the `open()` function to open the `hn_2014.json` file as a file object.\n",
    "2. Use the `json.load()` function to parse the file object and assign the result to `hn`."
   ]
  },
  {
   "cell_type": "code",
   "execution_count": 5,
   "metadata": {},
   "outputs": [],
   "source": [
    "file = open(\"hn_2014.json\")\n",
    "hn = json.load(file)"
   ]
  },
  {
   "cell_type": "code",
   "execution_count": 6,
   "metadata": {},
   "outputs": [
    {
     "name": "stdout",
     "output_type": "stream",
     "text": [
      "{\n",
      "    \"author\": \"dragongraphics\",\n",
      "    \"createdAt\": \"2014-05-29T08:07:50Z\",\n",
      "    \"createdAtI\": 1401350870,\n",
      "    \"numComments\": 0,\n",
      "    \"objectId\": \"7815238\",\n",
      "    \"points\": 2,\n",
      "    \"storyText\": \"\",\n",
      "    \"tags\": [\n",
      "        \"story\",\n",
      "        \"author_dragongraphics\",\n",
      "        \"story_7815238\"\n",
      "    ],\n",
      "    \"title\": \"Are we getting too Sassy? Weighing up micro-optimisation vs. maintainability\",\n",
      "    \"url\": \"http://ashleynolan.co.uk/blog/are-we-getting-too-sassy\"\n",
      "}\n"
     ]
    }
   ],
   "source": [
    "def jprint(obj):\n",
    "    # create a formatted string of the Python JSON object\n",
    "    text = json.dumps(obj, sort_keys=True, indent=4)\n",
    "    print(text)\n",
    "\n",
    "first_story = hn[0]\n",
    "jprint(first_story)"
   ]
  },
  {
   "cell_type": "markdown",
   "metadata": {},
   "source": [
    "### Instructions\n",
    "\n",
    "We have provided the code for the `del_key()` function.\n",
    "\n",
    "1. Create an empty list, `hn_clean` to store the cleaned data set.\n",
    "2. Loop over the dictionaries in the `hn` list. In each iteration:\n",
    "3. Use the `del_key()` function to delete the `createdAtI` key from the dictionary.\n",
    "4. Append the cleaned dictionary to `hn_clean`.\n",
    "\n",
    "    - https://docs.python.org/3.7/reference/simple_stmts.html#del – `del`"
   ]
  },
  {
   "cell_type": "code",
   "execution_count": 7,
   "metadata": {},
   "outputs": [],
   "source": [
    "def del_key(dict_, key):\n",
    "    # create a copy so we don't\n",
    "    # modify the original dict\n",
    "    modified_dict = dict_.copy()\n",
    "    del modified_dict[key]\n",
    "    return modified_dict\n",
    "\n",
    "hn_clean = []\n",
    "\n",
    "for i in hn:\n",
    "    hn_clean.append(del_key(i, 'createdAtI'))"
   ]
  },
  {
   "cell_type": "code",
   "execution_count": 8,
   "metadata": {},
   "outputs": [
    {
     "data": {
      "text/plain": [
       "[{'author': 'dragongraphics',\n",
       "  'numComments': 0,\n",
       "  'points': 2,\n",
       "  'url': 'http://ashleynolan.co.uk/blog/are-we-getting-too-sassy',\n",
       "  'storyText': '',\n",
       "  'createdAt': '2014-05-29T08:07:50Z',\n",
       "  'tags': ['story', 'author_dragongraphics', 'story_7815238'],\n",
       "  'title': 'Are we getting too Sassy? Weighing up micro-optimisation vs. maintainability',\n",
       "  'objectId': '7815238'},\n",
       " {'author': 'jcr',\n",
       "  'numComments': 0,\n",
       "  'points': 1,\n",
       "  'url': 'http://spectrum.ieee.org/automaton/robotics/home-robots/telemba-telepresence-robot',\n",
       "  'storyText': '',\n",
       "  'createdAt': '2014-05-29T08:05:58Z',\n",
       "  'tags': ['story', 'author_jcr', 'story_7815234'],\n",
       "  'title': 'Telemba Turns Your Old Roomba and Tablet Into a Telepresence Robot',\n",
       "  'objectId': '7815234'}]"
      ]
     },
     "execution_count": 8,
     "metadata": {},
     "output_type": "execute_result"
    }
   ],
   "source": [
    "hn_clean[:2]"
   ]
  },
  {
   "cell_type": "markdown",
   "metadata": {},
   "source": [
    "### Instructions\n",
    "\n",
    "We've provided the solution for the previous screen in comments for you to use as a reference.\n",
    "\n",
    "1. Create a list comprehension representation of the loop from the previous screen:\n",
    "    - Call the __`del_key()`__ function to remove the createdAtI value from each dictionary in the `hn` list.\n",
    "2. Assign the results to a new list, `hn_clean.`"
   ]
  },
  {
   "cell_type": "code",
   "execution_count": 9,
   "metadata": {},
   "outputs": [],
   "source": [
    "hn_clean_2 = [del_key(dictionary, 'createdAtI') for dictionary in hn]"
   ]
  },
  {
   "cell_type": "code",
   "execution_count": 10,
   "metadata": {},
   "outputs": [
    {
     "data": {
      "text/plain": [
       "[{'author': 'dragongraphics',\n",
       "  'numComments': 0,\n",
       "  'points': 2,\n",
       "  'url': 'http://ashleynolan.co.uk/blog/are-we-getting-too-sassy',\n",
       "  'storyText': '',\n",
       "  'createdAt': '2014-05-29T08:07:50Z',\n",
       "  'tags': ['story', 'author_dragongraphics', 'story_7815238'],\n",
       "  'title': 'Are we getting too Sassy? Weighing up micro-optimisation vs. maintainability',\n",
       "  'objectId': '7815238'}]"
      ]
     },
     "execution_count": 10,
     "metadata": {},
     "output_type": "execute_result"
    }
   ],
   "source": [
    "hn_clean_2[:1]"
   ]
  },
  {
   "cell_type": "markdown",
   "metadata": {},
   "source": [
    "### Instructions\n",
    "\n",
    "1. Use a list comprehension to extract the `url` value from each dictionary in `hn_clean`. Assign the result to `urls`."
   ]
  },
  {
   "cell_type": "code",
   "execution_count": 11,
   "metadata": {},
   "outputs": [],
   "source": [
    "urls = []\n",
    "urls = [a['url'] for a in hn_clean]"
   ]
  },
  {
   "cell_type": "markdown",
   "metadata": {},
   "source": [
    "###  Instructions\n",
    "\n",
    "1. Use list comprehension to create a new list, `thousand_points`:\n",
    "    - The list should contain values from `hn_clean` where the `points` key has a value greater than `1000`.\n",
    "2. Count the number of values in `thousand_points` and assign the result to `num_thousand_points`."
   ]
  },
  {
   "cell_type": "code",
   "execution_count": 12,
   "metadata": {},
   "outputs": [
    {
     "data": {
      "text/plain": [
       "[{'author': 'keithwarren',\n",
       "  'numComments': 451,\n",
       "  'points': 1297,\n",
       "  'url': 'http://roslyn.codeplex.com/',\n",
       "  'storyText': '',\n",
       "  'createdAt': '2014-04-03T16:48:14Z',\n",
       "  'tags': ['story', 'author_keithwarren', 'story_7524082'],\n",
       "  'title': 'Microsoft Open Sources C# Compiler',\n",
       "  'objectId': '7524082'},\n",
       " {'author': 'zipop',\n",
       "  'numComments': 403,\n",
       "  'points': 1192,\n",
       "  'url': 'http://www.teslamotors.com/blog/people-new-jersey',\n",
       "  'storyText': '',\n",
       "  'createdAt': '2014-03-14T19:05:37Z',\n",
       "  'tags': ['story', 'author_zipop', 'story_7401029'],\n",
       "  'title': 'Elon Musk: To the People of New Jersey',\n",
       "  'objectId': '7401029'}]"
      ]
     },
     "execution_count": 12,
     "metadata": {},
     "output_type": "execute_result"
    }
   ],
   "source": [
    "thousand_points = [i for i in hn_clean if i['points'] > 1000]\n",
    "num_thousand_points = len(thousand_points)\n",
    "thousand_points[:2]"
   ]
  },
  {
   "cell_type": "markdown",
   "metadata": {},
   "source": [
    "### Instructions\n",
    "\n",
    "1. Create a \"key function\" that accepts a single dictionary and returns the value from the `numComments` key.\n",
    "2. Use the `max()` function with the \"key function\" you just created to find the value from the `hn_clean` list with the most comments:\n",
    "    - Assign the result to the variable `most_comments`."
   ]
  },
  {
   "cell_type": "code",
   "execution_count": 13,
   "metadata": {},
   "outputs": [],
   "source": [
    "def get_nc(df):\n",
    "    return df['numComments']"
   ]
  },
  {
   "cell_type": "code",
   "execution_count": 14,
   "metadata": {},
   "outputs": [],
   "source": [
    "most_comments = max(hn_clean, key=get_nc)"
   ]
  },
  {
   "cell_type": "markdown",
   "metadata": {},
   "source": [
    "### Instructions\n",
    "\n",
    "1. In the display code, we have defined (in comments) a function `multiply()` using traditional syntax.\n",
    "2. Create a lambda function that performs the same operation. Assign it to the variable name `multiply`."
   ]
  },
  {
   "cell_type": "code",
   "execution_count": 15,
   "metadata": {},
   "outputs": [],
   "source": [
    "# def multiply(a, b):\n",
    "#    return a * b\n",
    "\n",
    "multiply = lambda a, b: a * b"
   ]
  },
  {
   "cell_type": "markdown",
   "metadata": {},
   "source": [
    "### Instructions\n",
    "\n",
    "1. Using `sorted()` and a `lambda` function, sort the `hn_clean` JSON list by the number of points (dictionary key `points`) from highest to lowest:\n",
    "    - Check the documentation for `sorted()` to see how to reverse the order to highest to lowest.\n",
    "    https://docs.python.org/3.7/library/functions.html#sorted\n",
    "    - Assign the result to `hn_sorted_points`.\n",
    "2. Use a list comprehension to return a list of the five post titles (dictionary key `title`) that have the most points in our data set:\n",
    "     Assign the result to `top_5_titles`."
   ]
  },
  {
   "cell_type": "code",
   "execution_count": 16,
   "metadata": {},
   "outputs": [],
   "source": [
    "hn_sorted_points = sorted(hn_clean, key=lambda d: d['points'], reverse=True)"
   ]
  },
  {
   "cell_type": "code",
   "execution_count": 17,
   "metadata": {},
   "outputs": [],
   "source": [
    "top_5_titles = [i['title'] for i in hn_sorted_points[:5]]"
   ]
  },
  {
   "cell_type": "code",
   "execution_count": 18,
   "metadata": {},
   "outputs": [
    {
     "data": {
      "text/plain": [
       "['2048',\n",
       " 'Today is The Day We Fight Back',\n",
       " 'Wozniak: “Actually, the movie was largely a lie about me”',\n",
       " 'Microsoft Open Sources C# Compiler',\n",
       " 'Elon Musk: To the People of New Jersey']"
      ]
     },
     "execution_count": 18,
     "metadata": {},
     "output_type": "execute_result"
    }
   ],
   "source": [
    "top_5_titles"
   ]
  },
  {
   "cell_type": "markdown",
   "metadata": {},
   "source": [
    "### Instructions\n",
    "\n",
    "1. Import the pandas library.\n",
    "2. Use the __`pandas.DataFrame()`__ constructor to create a dataframe version of the `hn_clean` JSON list. Assign the result to `hn_df`."
   ]
  },
  {
   "cell_type": "code",
   "execution_count": 19,
   "metadata": {},
   "outputs": [],
   "source": [
    "hn_df = pd.DataFrame(hn_clean)"
   ]
  },
  {
   "cell_type": "markdown",
   "metadata": {},
   "source": [
    "### Instructions\n",
    "\n",
    "1. Use __`Series.apply()`__ and __`len()`__ to create a boolean mask based on whether each item in tags has a length of 4.\n",
    "2. Use the boolean mask to filter tags. Assign the result to __`four_tags`__."
   ]
  },
  {
   "cell_type": "code",
   "execution_count": 20,
   "metadata": {},
   "outputs": [],
   "source": [
    "tags = hn_df['tags']\n",
    "\n",
    "four_tags = tags[tags.apply(len) == 4]"
   ]
  },
  {
   "cell_type": "markdown",
   "metadata": {},
   "source": [
    "### Instructions\n",
    "\n",
    "We have provided a function that uses a ternary operator to provide the logic to extract the tags.\n",
    "\n",
    "1. Use __`Series.apply()`__ and a __`lambda`__ function to extract the tag data from tags:\n",
    "    - Where the item is a list with length four, return the last item.\n",
    "    - In all other cases, return `None`.\n",
    "2. Assign the result to `cleaned_tags`.\n",
    "3. Assign the `cleaned_tags` series to the `tags` column of the hn_df dataframe."
   ]
  },
  {
   "cell_type": "code",
   "execution_count": 21,
   "metadata": {},
   "outputs": [],
   "source": [
    "# def extract_tag(l):\n",
    "#     return l[-1] if len(l) == 4 else None\n",
    "\n",
    "cleaned_tags = hn_df['tags'].apply(lambda tag : tag[-1] if len(tag) == 4 else None)\n",
    "\n",
    "hn_df['tags'] = cleaned_tags"
   ]
  },
  {
   "cell_type": "markdown",
   "metadata": {},
   "source": [
    "### _Experementing with a code:_\n",
    "---"
   ]
  },
  {
   "cell_type": "code",
   "execution_count": 22,
   "metadata": {
    "scrolled": false
   },
   "outputs": [
    {
     "data": {
      "text/plain": [
       "['abc0', 'abc1', 'abc2', 'abc3', 'abc4', 'abc5']"
      ]
     },
     "execution_count": 22,
     "metadata": {},
     "output_type": "execute_result"
    }
   ],
   "source": [
    "exp_list = ['abc', 'abc', 'abc', 'abc', 'abc', 'abc']\n",
    "\n",
    "for i in range(0, 6):\n",
    "    exp_list[i] = '{}{}'.format(exp_list[i], i)\n",
    "exp_list"
   ]
  },
  {
   "cell_type": "code",
   "execution_count": 23,
   "metadata": {},
   "outputs": [
    {
     "data": {
      "text/plain": [
       "['abc2.75', 'abc5.5', 'abc8.25', 'abc11.0', 'abc13.75', 'abc16.5']"
      ]
     },
     "execution_count": 23,
     "metadata": {},
     "output_type": "execute_result"
    }
   ],
   "source": [
    "exp_list_upd = ['{}{}'.format(exp_list[i][:3] , (i+1) * 2.75) for i in range(0, 6)]\n",
    "exp_list_upd"
   ]
  }
 ],
 "metadata": {
  "kernelspec": {
   "display_name": "Python 3",
   "language": "python",
   "name": "python3"
  },
  "language_info": {
   "codemirror_mode": {
    "name": "ipython",
    "version": 3
   },
   "file_extension": ".py",
   "mimetype": "text/x-python",
   "name": "python",
   "nbconvert_exporter": "python",
   "pygments_lexer": "ipython3",
   "version": "3.7.4"
  }
 },
 "nbformat": 4,
 "nbformat_minor": 2
}
