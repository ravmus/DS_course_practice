{
 "cells": [
  {
   "cell_type": "code",
   "execution_count": 1,
   "metadata": {},
   "outputs": [],
   "source": [
    "import numpy as np\n",
    "import pandas as pd\n",
    "import seaborn as sns\n",
    "import matplotlib.pyplot as plt\n",
    "%matplotlib inline"
   ]
  },
  {
   "cell_type": "markdown",
   "metadata": {},
   "source": [
    "# Working With Missing And Duplicate Data\n",
    "---\n",
    "Missing or duplicate data may exist in a data set for a number of different reasons. <br> \n",
    "Sometimes, missing or duplicate data is introduced as we perform cleaning and transformation tasks such as:\n",
    "\n",
    "- Combining data\n",
    "- Reindexing data\n",
    "- Reshaping data\n",
    "\n",
    "__In this mission, we'll explore each of these options in detail and learn when to use them.__ ,br>\n",
    "We'll work with the `2015`, `2016`, and `2017` `World Happiness Reports` again - more specifically, we'll combine them and clean missing values as we start to define a more complete data cleaning workflow. You can find the data sets here, along with descriptions of each of the columns.\n",
    "\n",
    "- https://www.kaggle.com/unsdsn/world-happiness#2015.csv\n",
    "\n",
    "__In this mission, we'll work with modified versions of the data sets.__ Each data set has already been updated so that each contains the same countries. For example, if a country appeared in the original 2015 report, but not in the original 2016 report, a row like the one below was added to the 2016 data set."
   ]
  },
  {
   "cell_type": "markdown",
   "metadata": {},
   "source": [
    "### Instructions\n",
    "\n",
    "We've already read in the modified `2015`, `2016`, and `2017` `World Happiness Reports` to the variables `happiness2015`, `happiness2016`, and `happiness2017`, respectively. We also updated each dataframe so that each contain the same countries, as described above.\n",
    "\n",
    "1. Use the `DataFrame.shape` attribute to confirm the number of rows and columns for`happiness2015`, `happiness2016`, and `happiness2017`.\n",
    "2. Assign the result for `happiness2015` to `shape_2015`.\n",
    "3. Assign the result for `happiness2016` to `shape_2016`.\n",
    "4. Assign the result for `happiness2017` to `shape_2017`."
   ]
  },
  {
   "cell_type": "code",
   "execution_count": 2,
   "metadata": {},
   "outputs": [
    {
     "name": "stdout",
     "output_type": "stream",
     "text": [
      "(164, 13) (164, 14) (164, 13)\n"
     ]
    }
   ],
   "source": [
    "import numpy as np\n",
    "import pandas as pd\n",
    "import matplotlib.pyplot as plt\n",
    "%matplotlib inline\n",
    "\n",
    "happiness2015 = pd.read_csv(\"wh_2015.csv\")\n",
    "happiness2016 = pd.read_csv(\"wh_2016.csv\")\n",
    "happiness2017 = pd.read_csv(\"wh_2017.csv\")\n",
    "\n",
    "shape_2015 = happiness2015.shape\n",
    "shape_2016 = happiness2016.shape\n",
    "shape_2017 = happiness2017.shape\n",
    "print(shape_2015, shape_2016, shape_2017)"
   ]
  },
  {
   "cell_type": "markdown",
   "metadata": {},
   "source": [
    "### Instructions\n",
    "\n",
    "1. Use the `DataFrame.isnull()` and `DataFrame.sum()` methods to confirm the number of missing values in `happiness2016`. Assign the result to `missing_2016`.\n",
    "1. Use the `DataFrame.isnull()` and `DataFrame.sum()` methods to confirm the number of missing values in `happiness2017`. Assign the result to `missing_2017`."
   ]
  },
  {
   "cell_type": "code",
   "execution_count": 3,
   "metadata": {},
   "outputs": [],
   "source": [
    "missing_2016 = happiness2016.isnull().sum()\n",
    "missing_2017 = happiness2017.isnull().sum()"
   ]
  },
  {
   "cell_type": "markdown",
   "metadata": {},
   "source": [
    "### Instructions\n",
    "\n",
    "We've already updated the column names for `happiness2017`.\n",
    "\n",
    "1. Update the columns names for `happiness2015` and `happiness2016` to match the formatting of the column names in `happiness2017`. Use the following criteria to rename the columns:\n",
    "    - All letters should be uppercase.\n",
    "    - There should be only one space between words.\n",
    "    - There should be no parentheses in column names\n",
    "    - For example, the `Health (Life Expectancy)` columns should both be renamed to `HEALTH LIFE EXPECTANCY`.\n",
    "2. Use the `pd.concat()` function to combine `happiness2015`, `happpiness2016`, and `happiness2017`. Set the `ignore_index` argument equal to `True` to reset the index in the resulting dataframe. Assign the result to `combined`.\n",
    "3. Use the `DataFrame.isnull()` and `DataFrame.sum()` methods to check for missing values. Assign the result to a variable named `missing`."
   ]
  },
  {
   "cell_type": "code",
   "execution_count": 4,
   "metadata": {},
   "outputs": [],
   "source": [
    "happiness2015.columns = happiness2015.columns.str.replace('.', ' ').str.replace('(', ' ').str.replace(')', ' ').str.replace('\\s+', ' ').str.strip().str.upper()\n",
    "happiness2016.columns = happiness2016.columns.str.replace('.', ' ').str.replace('(', ' ').str.replace(')', ' ').str.replace('\\s+', ' ').str.strip().str.upper()\n",
    "happiness2017.columns = happiness2017.columns.str.replace('.', ' ').str.replace('(', ' ').str.replace(')', ' ').str.replace('\\s+', ' ').str.strip().str.upper()\n",
    "\n",
    "combined = pd.concat([happiness2015, happiness2016, happiness2017], ignore_index=True, sort = True)\n",
    "missing = combined.isnull().sum()"
   ]
  },
  {
   "cell_type": "markdown",
   "metadata": {},
   "source": [
    "---\n",
    "#  Visualizing `NaN's`\n",
    "In the last exercise, we corrected some of the missing values by fixing the column names. <br>\n",
    "Note that we could have cleaned the column names without changing the capitalization. <br>\n",
    "__It's good practice, however, to make the capitalization uniform, because a stray uppercase or lowercase letter could've reintroduced missing values__.\n",
    "\n",
    "We also confirmed there are still values missing:"
   ]
  },
  {
   "cell_type": "code",
   "execution_count": 5,
   "metadata": {},
   "outputs": [
    {
     "data": {
      "text/plain": [
       "COUNTRY                          0\n",
       "DYSTOPIA RESIDUAL               22\n",
       "ECONOMY GDP PER CAPITA          22\n",
       "FAMILY                          22\n",
       "FREEDOM                         22\n",
       "GENEROSITY                      22\n",
       "HAPPINESS RANK                  22\n",
       "HAPPINESS SCORE                 22\n",
       "HEALTH LIFE EXPECTANCY          22\n",
       "LOWER CONFIDENCE INTERVAL      335\n",
       "REGION                         177\n",
       "STANDARD ERROR                 334\n",
       "TRUST GOVERNMENT CORRUPTION     22\n",
       "UPPER CONFIDENCE INTERVAL      335\n",
       "WHISKER HIGH                   337\n",
       "WHISKER LOW                    337\n",
       "YEAR                             0\n",
       "dtype: int64"
      ]
     },
     "execution_count": 5,
     "metadata": {},
     "output_type": "execute_result"
    }
   ],
   "source": [
    "missing"
   ]
  },
  {
   "cell_type": "markdown",
   "metadata": {},
   "source": [
    "We can learn more about where these missing values are located by visualizing them with a __`heatmap`__, a graphical representation of our data in which values are represented as colors. We'll use the seaborn library to create the __`heatmap`__:\n",
    "\n",
    "- __https://seaborn.pydata.org/generated/seaborn.heatmap.html__\n",
    "\n",
    "Note below that we first reset the index to be the `YEAR` column so that we'll be able to see the corresponding year on the left side of the heatmap:"
   ]
  },
  {
   "cell_type": "code",
   "execution_count": 6,
   "metadata": {},
   "outputs": [
    {
     "data": {
      "image/png": "[encoded data removed]",
      "text/plain": [
       "<Figure size 432x288 with 1 Axes>"
      ]
     },
     "metadata": {
      "needs_background": "light"
     },
     "output_type": "display_data"
    }
   ],
   "source": [
    "import seaborn as sns\n",
    "combined_updated = combined.set_index('YEAR')\n",
    "sns.heatmap(combined_updated.isnull(), cbar=False);"
   ]
  },
  {
   "cell_type": "markdown",
   "metadata": {},
   "source": [
    "### Instructions\n",
    "\n",
    "1. Confirm that the `REGION` column is missing from the 2017 data. Recall that there are 164 rows for the year 2017.\n",
    "    - Select just the rows in combined in which the `YEAR` column equals `2017`. Then, select just the `REGION` column. Assign the result to `regions_2017`.\n",
    "    - Use the `Series.isnull()` and `Series.sum()` to calculate the total number of missing values in `regions_2017`, the `REGION` column for `2017`. Assign the result to `missing`.\n",
    "2. Use the variable inspector to view the results of `missing`. Are all 164 region values missing for the year 2017?\n",
    "\n",
    "#### Solution:"
   ]
  },
  {
   "cell_type": "code",
   "execution_count": 7,
   "metadata": {},
   "outputs": [],
   "source": [
    "regions_2017 = combined.REGION[combined.YEAR == 2017]\n",
    "missing = regions_2017.isnull().sum()"
   ]
  },
  {
   "cell_type": "markdown",
   "metadata": {},
   "source": [
    "### Instructions\n",
    "\n",
    "We've already created a dataframe named `regions` containing all of the countries and corresponding regions from the `happiness2015` and `happiness2016` dataframes.\n",
    "\n",
    "1. Use the `pd.merge()` function to assign the `REGION` in the regions dataframe to the corresponding country in combined.\n",
    "    - Set the left parameter equal to `combined`.\n",
    "    - Set the right parameter equal to `regions`.\n",
    "    - Set the on parameter equal to `'COUNTRY'`.\n",
    "    - Set the how parameter equal to `'left'` to make sure we don't drop any rows from combined.\n",
    "    - Assign the result back to `combined`.\n",
    "2. Use the `DataFrame.drop()` method to drop the original region column with missing values, now named `REGION_x`.\n",
    "    - Pass `'REGION_x'` into the `df.drop()` method.\n",
    "    - Set the `axis` parameter equal to `1`.\n",
    "    - Assign the result back to `combined`.\n",
    "3. Use the `DataFrame.isnull()` and ``DataFrame.sum()` methods to check for missing values. Assign the result to a variable named `missing`."
   ]
  },
  {
   "cell_type": "code",
   "execution_count": 8,
   "metadata": {},
   "outputs": [],
   "source": [
    "r_2015 = happiness2015[['COUNTRY', 'REGION']]\n",
    "r_2016 = happiness2016[['COUNTRY', 'REGION']]\n",
    "n_regions = pd.concat([r_2015, r_2016])\n",
    "rg_null = n_regions.REGION.notnull()\n",
    "n_regions = n_regions[rg_null]\n",
    "n_regions = n_regions.drop_duplicates(subset = 'COUNTRY' , keep='first')"
   ]
  },
  {
   "cell_type": "code",
   "execution_count": 9,
   "metadata": {},
   "outputs": [
    {
     "data": {
      "text/plain": [
       "(164, 2)"
      ]
     },
     "execution_count": 9,
     "metadata": {},
     "output_type": "execute_result"
    }
   ],
   "source": [
    "n_regions.shape"
   ]
  },
  {
   "cell_type": "code",
   "execution_count": 10,
   "metadata": {},
   "outputs": [
    {
     "data": {
      "text/html": [
       "<div>\n",
       "<style scoped>\n",
       "    .dataframe tbody tr th:only-of-type {\n",
       "        vertical-align: middle;\n",
       "    }\n",
       "\n",
       "    .dataframe tbody tr th {\n",
       "        vertical-align: top;\n",
       "    }\n",
       "\n",
       "    .dataframe thead th {\n",
       "        text-align: right;\n",
       "    }\n",
       "</style>\n",
       "<table border=\"1\" class=\"dataframe\">\n",
       "  <thead>\n",
       "    <tr style=\"text-align: right;\">\n",
       "      <th></th>\n",
       "      <th>COUNTRY</th>\n",
       "      <th>DYSTOPIA RESIDUAL</th>\n",
       "      <th>ECONOMY GDP PER CAPITA</th>\n",
       "      <th>FAMILY</th>\n",
       "      <th>FREEDOM</th>\n",
       "      <th>GENEROSITY</th>\n",
       "      <th>HAPPINESS RANK</th>\n",
       "      <th>HAPPINESS SCORE</th>\n",
       "      <th>HEALTH LIFE EXPECTANCY</th>\n",
       "      <th>LOWER CONFIDENCE INTERVAL</th>\n",
       "      <th>STANDARD ERROR</th>\n",
       "      <th>TRUST GOVERNMENT CORRUPTION</th>\n",
       "      <th>UPPER CONFIDENCE INTERVAL</th>\n",
       "      <th>WHISKER HIGH</th>\n",
       "      <th>WHISKER LOW</th>\n",
       "      <th>YEAR</th>\n",
       "      <th>REGION</th>\n",
       "    </tr>\n",
       "  </thead>\n",
       "  <tbody>\n",
       "    <tr>\n",
       "      <td>489</td>\n",
       "      <td>Somaliland region</td>\n",
       "      <td>NaN</td>\n",
       "      <td>NaN</td>\n",
       "      <td>NaN</td>\n",
       "      <td>NaN</td>\n",
       "      <td>NaN</td>\n",
       "      <td>NaN</td>\n",
       "      <td>NaN</td>\n",
       "      <td>NaN</td>\n",
       "      <td>NaN</td>\n",
       "      <td>NaN</td>\n",
       "      <td>NaN</td>\n",
       "      <td>NaN</td>\n",
       "      <td>NaN</td>\n",
       "      <td>NaN</td>\n",
       "      <td>2017</td>\n",
       "      <td>Sub-Saharan Africa</td>\n",
       "    </tr>\n",
       "    <tr>\n",
       "      <td>490</td>\n",
       "      <td>Suriname</td>\n",
       "      <td>NaN</td>\n",
       "      <td>NaN</td>\n",
       "      <td>NaN</td>\n",
       "      <td>NaN</td>\n",
       "      <td>NaN</td>\n",
       "      <td>NaN</td>\n",
       "      <td>NaN</td>\n",
       "      <td>NaN</td>\n",
       "      <td>NaN</td>\n",
       "      <td>NaN</td>\n",
       "      <td>NaN</td>\n",
       "      <td>NaN</td>\n",
       "      <td>NaN</td>\n",
       "      <td>NaN</td>\n",
       "      <td>2017</td>\n",
       "      <td>Latin America and Caribbean</td>\n",
       "    </tr>\n",
       "    <tr>\n",
       "      <td>491</td>\n",
       "      <td>Swaziland</td>\n",
       "      <td>NaN</td>\n",
       "      <td>NaN</td>\n",
       "      <td>NaN</td>\n",
       "      <td>NaN</td>\n",
       "      <td>NaN</td>\n",
       "      <td>NaN</td>\n",
       "      <td>NaN</td>\n",
       "      <td>NaN</td>\n",
       "      <td>NaN</td>\n",
       "      <td>NaN</td>\n",
       "      <td>NaN</td>\n",
       "      <td>NaN</td>\n",
       "      <td>NaN</td>\n",
       "      <td>NaN</td>\n",
       "      <td>2017</td>\n",
       "      <td>Sub-Saharan Africa</td>\n",
       "    </tr>\n",
       "  </tbody>\n",
       "</table>\n",
       "</div>"
      ],
      "text/plain": [
       "               COUNTRY  DYSTOPIA RESIDUAL  ECONOMY GDP PER CAPITA  FAMILY  \\\n",
       "489  Somaliland region                NaN                     NaN     NaN   \n",
       "490           Suriname                NaN                     NaN     NaN   \n",
       "491          Swaziland                NaN                     NaN     NaN   \n",
       "\n",
       "     FREEDOM  GENEROSITY  HAPPINESS RANK  HAPPINESS SCORE  \\\n",
       "489      NaN         NaN             NaN              NaN   \n",
       "490      NaN         NaN             NaN              NaN   \n",
       "491      NaN         NaN             NaN              NaN   \n",
       "\n",
       "     HEALTH LIFE EXPECTANCY  LOWER CONFIDENCE INTERVAL  STANDARD ERROR  \\\n",
       "489                     NaN                        NaN             NaN   \n",
       "490                     NaN                        NaN             NaN   \n",
       "491                     NaN                        NaN             NaN   \n",
       "\n",
       "     TRUST GOVERNMENT CORRUPTION  UPPER CONFIDENCE INTERVAL  WHISKER HIGH  \\\n",
       "489                          NaN                        NaN           NaN   \n",
       "490                          NaN                        NaN           NaN   \n",
       "491                          NaN                        NaN           NaN   \n",
       "\n",
       "     WHISKER LOW  YEAR                       REGION  \n",
       "489          NaN  2017           Sub-Saharan Africa  \n",
       "490          NaN  2017  Latin America and Caribbean  \n",
       "491          NaN  2017           Sub-Saharan Africa  "
      ]
     },
     "execution_count": 10,
     "metadata": {},
     "output_type": "execute_result"
    }
   ],
   "source": [
    "combined = pd.merge(left = combined, right = n_regions, how='left', on = 'COUNTRY')\n",
    "combined = combined.drop('REGION_x', axis = 1)\n",
    "combined = combined.rename(columns={\"REGION_y\": \"REGION\"})\n",
    "\n",
    "missing = combined.isnull().sum()\n",
    "combined.tail(3)"
   ]
  },
  {
   "cell_type": "code",
   "execution_count": 11,
   "metadata": {
    "scrolled": true
   },
   "outputs": [
    {
     "data": {
      "text/plain": [
       "COUNTRY                          0\n",
       "DYSTOPIA RESIDUAL               22\n",
       "ECONOMY GDP PER CAPITA          22\n",
       "FAMILY                          22\n",
       "FREEDOM                         22\n",
       "GENEROSITY                      22\n",
       "HAPPINESS RANK                  22\n",
       "HAPPINESS SCORE                 22\n",
       "HEALTH LIFE EXPECTANCY          22\n",
       "LOWER CONFIDENCE INTERVAL      335\n",
       "STANDARD ERROR                 334\n",
       "TRUST GOVERNMENT CORRUPTION     22\n",
       "UPPER CONFIDENCE INTERVAL      335\n",
       "WHISKER HIGH                   337\n",
       "WHISKER LOW                    337\n",
       "YEAR                             0\n",
       "REGION                           0\n",
       "dtype: int64"
      ]
     },
     "execution_count": 11,
     "metadata": {},
     "output_type": "execute_result"
    }
   ],
   "source": [
    "missing"
   ]
  },
  {
   "cell_type": "markdown",
   "metadata": {},
   "source": [
    "### Instructions\n",
    "\n",
    "1. Standardize the capitalization so that all the values in the `COUNTRY` column in `combined` are uppercase.\n",
    "    - As an example, `'India'` should be changed to `'INDIA'`.\n",
    "2. Use the `df.duplicated()` method to identify any rows that have the same value in the `COUNTRY` and `YEAR` columns. Assign your result to `dups`.\n",
    "3. Use `dups` to index combined. Print the results."
   ]
  },
  {
   "cell_type": "code",
   "execution_count": 12,
   "metadata": {},
   "outputs": [
    {
     "data": {
      "text/html": [
       "<div>\n",
       "<style scoped>\n",
       "    .dataframe tbody tr th:only-of-type {\n",
       "        vertical-align: middle;\n",
       "    }\n",
       "\n",
       "    .dataframe tbody tr th {\n",
       "        vertical-align: top;\n",
       "    }\n",
       "\n",
       "    .dataframe thead th {\n",
       "        text-align: right;\n",
       "    }\n",
       "</style>\n",
       "<table border=\"1\" class=\"dataframe\">\n",
       "  <thead>\n",
       "    <tr style=\"text-align: right;\">\n",
       "      <th></th>\n",
       "      <th>COUNTRY</th>\n",
       "      <th>DYSTOPIA RESIDUAL</th>\n",
       "      <th>ECONOMY GDP PER CAPITA</th>\n",
       "      <th>FAMILY</th>\n",
       "      <th>FREEDOM</th>\n",
       "      <th>GENEROSITY</th>\n",
       "      <th>HAPPINESS RANK</th>\n",
       "      <th>HAPPINESS SCORE</th>\n",
       "      <th>HEALTH LIFE EXPECTANCY</th>\n",
       "      <th>LOWER CONFIDENCE INTERVAL</th>\n",
       "      <th>STANDARD ERROR</th>\n",
       "      <th>TRUST GOVERNMENT CORRUPTION</th>\n",
       "      <th>UPPER CONFIDENCE INTERVAL</th>\n",
       "      <th>WHISKER HIGH</th>\n",
       "      <th>WHISKER LOW</th>\n",
       "      <th>YEAR</th>\n",
       "      <th>REGION</th>\n",
       "    </tr>\n",
       "  </thead>\n",
       "  <tbody>\n",
       "    <tr>\n",
       "      <td>162</td>\n",
       "      <td>SOMALILAND REGION</td>\n",
       "      <td>NaN</td>\n",
       "      <td>NaN</td>\n",
       "      <td>NaN</td>\n",
       "      <td>NaN</td>\n",
       "      <td>NaN</td>\n",
       "      <td>NaN</td>\n",
       "      <td>NaN</td>\n",
       "      <td>NaN</td>\n",
       "      <td>NaN</td>\n",
       "      <td>NaN</td>\n",
       "      <td>NaN</td>\n",
       "      <td>NaN</td>\n",
       "      <td>NaN</td>\n",
       "      <td>NaN</td>\n",
       "      <td>2015</td>\n",
       "      <td>Sub-Saharan Africa</td>\n",
       "    </tr>\n",
       "    <tr>\n",
       "      <td>326</td>\n",
       "      <td>SOMALILAND REGION</td>\n",
       "      <td>NaN</td>\n",
       "      <td>NaN</td>\n",
       "      <td>NaN</td>\n",
       "      <td>NaN</td>\n",
       "      <td>NaN</td>\n",
       "      <td>NaN</td>\n",
       "      <td>NaN</td>\n",
       "      <td>NaN</td>\n",
       "      <td>NaN</td>\n",
       "      <td>NaN</td>\n",
       "      <td>NaN</td>\n",
       "      <td>NaN</td>\n",
       "      <td>NaN</td>\n",
       "      <td>NaN</td>\n",
       "      <td>2016</td>\n",
       "      <td>Sub-Saharan Africa</td>\n",
       "    </tr>\n",
       "    <tr>\n",
       "      <td>489</td>\n",
       "      <td>SOMALILAND REGION</td>\n",
       "      <td>NaN</td>\n",
       "      <td>NaN</td>\n",
       "      <td>NaN</td>\n",
       "      <td>NaN</td>\n",
       "      <td>NaN</td>\n",
       "      <td>NaN</td>\n",
       "      <td>NaN</td>\n",
       "      <td>NaN</td>\n",
       "      <td>NaN</td>\n",
       "      <td>NaN</td>\n",
       "      <td>NaN</td>\n",
       "      <td>NaN</td>\n",
       "      <td>NaN</td>\n",
       "      <td>NaN</td>\n",
       "      <td>2017</td>\n",
       "      <td>Sub-Saharan Africa</td>\n",
       "    </tr>\n",
       "  </tbody>\n",
       "</table>\n",
       "</div>"
      ],
      "text/plain": [
       "               COUNTRY  DYSTOPIA RESIDUAL  ECONOMY GDP PER CAPITA  FAMILY  \\\n",
       "162  SOMALILAND REGION                NaN                     NaN     NaN   \n",
       "326  SOMALILAND REGION                NaN                     NaN     NaN   \n",
       "489  SOMALILAND REGION                NaN                     NaN     NaN   \n",
       "\n",
       "     FREEDOM  GENEROSITY  HAPPINESS RANK  HAPPINESS SCORE  \\\n",
       "162      NaN         NaN             NaN              NaN   \n",
       "326      NaN         NaN             NaN              NaN   \n",
       "489      NaN         NaN             NaN              NaN   \n",
       "\n",
       "     HEALTH LIFE EXPECTANCY  LOWER CONFIDENCE INTERVAL  STANDARD ERROR  \\\n",
       "162                     NaN                        NaN             NaN   \n",
       "326                     NaN                        NaN             NaN   \n",
       "489                     NaN                        NaN             NaN   \n",
       "\n",
       "     TRUST GOVERNMENT CORRUPTION  UPPER CONFIDENCE INTERVAL  WHISKER HIGH  \\\n",
       "162                          NaN                        NaN           NaN   \n",
       "326                          NaN                        NaN           NaN   \n",
       "489                          NaN                        NaN           NaN   \n",
       "\n",
       "     WHISKER LOW  YEAR              REGION  \n",
       "162          NaN  2015  Sub-Saharan Africa  \n",
       "326          NaN  2016  Sub-Saharan Africa  \n",
       "489          NaN  2017  Sub-Saharan Africa  "
      ]
     },
     "execution_count": 12,
     "metadata": {},
     "output_type": "execute_result"
    }
   ],
   "source": [
    "combined.COUNTRY = combined.COUNTRY.str.upper()\n",
    "dups = combined.duplicated(['COUNTRY', 'YEAR'])\n",
    "combined[dups]"
   ]
  },
  {
   "cell_type": "markdown",
   "metadata": {},
   "source": [
    "### Instructions\n",
    "\n",
    "1. Use the `df.drop_duplicates()` method to drop rows with more than one country for each year. Assign the result back to `combined`.\n",
    "2. Pass a list containing the `COUNTRY` and `YEAR` columns into the `drop_duplicates()` method.\n",
    "3.  we'll `keep` the `first` row"
   ]
  },
  {
   "cell_type": "code",
   "execution_count": 13,
   "metadata": {},
   "outputs": [],
   "source": [
    "combined_new = combined.drop_duplicates(['COUNTRY', 'YEAR'], keep = 'first')"
   ]
  },
  {
   "cell_type": "code",
   "execution_count": 14,
   "metadata": {},
   "outputs": [
    {
     "data": {
      "text/html": [
       "<div>\n",
       "<style scoped>\n",
       "    .dataframe tbody tr th:only-of-type {\n",
       "        vertical-align: middle;\n",
       "    }\n",
       "\n",
       "    .dataframe tbody tr th {\n",
       "        vertical-align: top;\n",
       "    }\n",
       "\n",
       "    .dataframe thead th {\n",
       "        text-align: right;\n",
       "    }\n",
       "</style>\n",
       "<table border=\"1\" class=\"dataframe\">\n",
       "  <thead>\n",
       "    <tr style=\"text-align: right;\">\n",
       "      <th></th>\n",
       "      <th>COUNTRY</th>\n",
       "      <th>DYSTOPIA RESIDUAL</th>\n",
       "      <th>ECONOMY GDP PER CAPITA</th>\n",
       "      <th>FAMILY</th>\n",
       "      <th>FREEDOM</th>\n",
       "      <th>GENEROSITY</th>\n",
       "      <th>HAPPINESS RANK</th>\n",
       "      <th>HAPPINESS SCORE</th>\n",
       "      <th>HEALTH LIFE EXPECTANCY</th>\n",
       "      <th>LOWER CONFIDENCE INTERVAL</th>\n",
       "      <th>STANDARD ERROR</th>\n",
       "      <th>TRUST GOVERNMENT CORRUPTION</th>\n",
       "      <th>UPPER CONFIDENCE INTERVAL</th>\n",
       "      <th>WHISKER HIGH</th>\n",
       "      <th>WHISKER LOW</th>\n",
       "      <th>YEAR</th>\n",
       "      <th>REGION</th>\n",
       "    </tr>\n",
       "  </thead>\n",
       "  <tbody>\n",
       "  </tbody>\n",
       "</table>\n",
       "</div>"
      ],
      "text/plain": [
       "Empty DataFrame\n",
       "Columns: [COUNTRY, DYSTOPIA RESIDUAL, ECONOMY GDP PER CAPITA, FAMILY, FREEDOM, GENEROSITY, HAPPINESS RANK, HAPPINESS SCORE, HEALTH LIFE EXPECTANCY, LOWER CONFIDENCE INTERVAL, STANDARD ERROR, TRUST GOVERNMENT CORRUPTION, UPPER CONFIDENCE INTERVAL, WHISKER HIGH, WHISKER LOW, YEAR, REGION]\n",
       "Index: []"
      ]
     },
     "execution_count": 14,
     "metadata": {},
     "output_type": "execute_result"
    }
   ],
   "source": [
    "# cheking for duplicates\n",
    "dups_2 = combined_new.duplicated(['COUNTRY', 'YEAR'])\n",
    "combined_new[dups_2]\n",
    "# no duplicates"
   ]
  },
  {
   "cell_type": "markdown",
   "metadata": {},
   "source": [
    "### Instructions\n",
    "\n",
    "1. Use the __`df.drop()`__ method to drop the columns in __`columns_to_drop`__.\n",
    "    - Pass `columns_to_drop` into the `df.drop()` method.\n",
    "    - Set the `axis` parameter equal to `1`.\n",
    "    - Assign the result back to `combined`.\n",
    "2. Use the __`df.isnull()`__ and __`df.sum()`__ methods to calculate the number of missing values for each column. Assign the result to `missing`.\n",
    "\n",
    "- __https://pandas.pydata.org/pandas-docs/stable/reference/api/pandas.DataFrame.drop.html__ – doc\n",
    "\n",
    "\n",
    "#### Solution:"
   ]
  },
  {
   "cell_type": "code",
   "execution_count": 15,
   "metadata": {},
   "outputs": [],
   "source": [
    "columns_to_drop = ['LOWER CONFIDENCE INTERVAL', 'STANDARD ERROR', 'UPPER CONFIDENCE INTERVAL', 'WHISKER HIGH', 'WHISKER LOW'] \n",
    "combined = combined.drop(columns_to_drop, axis=1)"
   ]
  },
  {
   "cell_type": "code",
   "execution_count": 16,
   "metadata": {},
   "outputs": [
    {
     "data": {
      "text/plain": [
       "COUNTRY                         0\n",
       "DYSTOPIA RESIDUAL              22\n",
       "ECONOMY GDP PER CAPITA         22\n",
       "FAMILY                         22\n",
       "FREEDOM                        22\n",
       "GENEROSITY                     22\n",
       "HAPPINESS RANK                 22\n",
       "HAPPINESS SCORE                22\n",
       "HEALTH LIFE EXPECTANCY         22\n",
       "TRUST GOVERNMENT CORRUPTION    22\n",
       "YEAR                            0\n",
       "REGION                          0\n",
       "dtype: int64"
      ]
     },
     "execution_count": 16,
     "metadata": {},
     "output_type": "execute_result"
    }
   ],
   "source": [
    "missing = combined.isnull().sum()\n",
    "missing"
   ]
  },
  {
   "cell_type": "markdown",
   "metadata": {},
   "source": [
    "### Instructions\n",
    "\n",
    "1. Use the __`df.dropna()`__ method to drop all columns in combined with 159 or less non null values.\n",
    "    - Set the `thresh` argument equal to `159` and the axis parameter equal to `1`.\n",
    "2. Use the __`df.isnull()`__ and __`df.sum()`__ methods to calculate the number of missing values for each column. Assign the result to __`missing`__."
   ]
  },
  {
   "cell_type": "code",
   "execution_count": 17,
   "metadata": {},
   "outputs": [],
   "source": [
    "combined = combined.dropna(thresh = 159, axis =1)"
   ]
  },
  {
   "cell_type": "code",
   "execution_count": 18,
   "metadata": {},
   "outputs": [],
   "source": [
    "missing = combined.isnull().sum()"
   ]
  },
  {
   "cell_type": "code",
   "execution_count": 19,
   "metadata": {},
   "outputs": [
    {
     "data": {
      "text/plain": [
       "COUNTRY                         0\n",
       "DYSTOPIA RESIDUAL              22\n",
       "ECONOMY GDP PER CAPITA         22\n",
       "FAMILY                         22\n",
       "FREEDOM                        22\n",
       "GENEROSITY                     22\n",
       "HAPPINESS RANK                 22\n",
       "HAPPINESS SCORE                22\n",
       "HEALTH LIFE EXPECTANCY         22\n",
       "TRUST GOVERNMENT CORRUPTION    22\n",
       "YEAR                            0\n",
       "REGION                          0\n",
       "dtype: int64"
      ]
     },
     "execution_count": 19,
     "metadata": {},
     "output_type": "execute_result"
    }
   ],
   "source": [
    "missing"
   ]
  },
  {
   "cell_type": "code",
   "execution_count": 20,
   "metadata": {},
   "outputs": [
    {
     "data": {
      "image/png": "[encoded data removed]",
      "text/plain": [
       "<Figure size 432x288 with 1 Axes>"
      ]
     },
     "metadata": {
      "needs_background": "light"
     },
     "output_type": "display_data"
    }
   ],
   "source": [
    "sorted = combined.set_index('REGION').sort_values(['REGION', 'HAPPINESS SCORE'])\n",
    "sns.heatmap(sorted.isnull(), cbar=False);"
   ]
  },
  {
   "cell_type": "markdown",
   "metadata": {},
   "source": [
    "### Instructions\n",
    "\n",
    "1. Use the __`Series.mean()`__ method to calculate the mean of the __`HAPPINESS SCORE`__ column. Assign the result to __`happiness_mean`__. Print `happiness_mean`.\n",
    "2. Use the __`Series.fillna()`__ method to replace all the missing values in the __`HAPPINESS SCORE`__ column with __`happiness_mean`__. Assign the result to a new column named __`HAPPINESS SCORE UPDATED`__.\n",
    "Print the mean of `__HAPPINESS SCORE UPDATED`.\n",
    "3. Based on the results of this exercise, try to answer the question below: <br>\n",
    "     _Did replacing missing values with the mean of a series cause the mean to change?_"
   ]
  },
  {
   "cell_type": "code",
   "execution_count": 21,
   "metadata": {},
   "outputs": [],
   "source": [
    "happiness_mean = combined['HAPPINESS SCORE'].mean()\n",
    "combined['HAPPINESS SCORE UPDATED'] = combined['HAPPINESS SCORE'].fillna(happiness_mean)"
   ]
  },
  {
   "cell_type": "code",
   "execution_count": 22,
   "metadata": {},
   "outputs": [
    {
     "data": {
      "text/plain": [
       "DYSTOPIA RESIDUAL                 2.092717\n",
       "ECONOMY GDP PER CAPITA            0.927830\n",
       "FAMILY                            0.990347\n",
       "FREEDOM                           0.402828\n",
       "GENEROSITY                        0.242241\n",
       "HAPPINESS RANK                   78.829787\n",
       "HAPPINESS SCORE                   5.370728\n",
       "HEALTH LIFE EXPECTANCY            0.579968\n",
       "TRUST GOVERNMENT CORRUPTION       0.134790\n",
       "YEAR                           2016.000000\n",
       "HAPPINESS SCORE UPDATED           5.370728\n",
       "dtype: float64"
      ]
     },
     "execution_count": 22,
     "metadata": {},
     "output_type": "execute_result"
    }
   ],
   "source": [
    "combined.mean()"
   ]
  },
  {
   "cell_type": "markdown",
   "metadata": {},
   "source": [
    "### Instructions\n",
    "\n",
    "1. Use the __`DataFrame.dropna()`__ method to drop any remaining rows with missing values. Assign the result back to __`combined`__.\n",
    "2. Use the __`df.isnull()`__ and __`df.sum()`__ methods to confirm there are no missing values left in `combined`. Assign the result to `missing`."
   ]
  },
  {
   "cell_type": "code",
   "execution_count": 23,
   "metadata": {},
   "outputs": [],
   "source": [
    "combined = combined.dropna()\n",
    "missing = combined.isnull().sum()"
   ]
  },
  {
   "cell_type": "markdown",
   "metadata": {},
   "source": [
    "__--- DONE ----__"
   ]
  }
 ],
 "metadata": {
  "kernelspec": {
   "display_name": "Python 3",
   "language": "python",
   "name": "python3"
  },
  "language_info": {
   "codemirror_mode": {
    "name": "ipython",
    "version": 3
   },
   "file_extension": ".py",
   "mimetype": "text/x-python",
   "name": "python",
   "nbconvert_exporter": "python",
   "pygments_lexer": "ipython3",
   "version": "3.7.4"
  }
 },
 "nbformat": 4,
 "nbformat_minor": 2
}
