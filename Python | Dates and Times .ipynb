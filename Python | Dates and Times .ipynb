{
 "cells": [
  {
   "cell_type": "markdown",
   "metadata": {},
   "source": [
    "# Working with Dates and Times in Python\n",
    "--- \n",
    "\n",
    "Working with date and times is a vital skill, because many data include date/time information, including:\n",
    "\n",
    "- Weather data with dates and/or times.\n",
    "- Computer logs with the timestamp for each event.\n",
    "- Sales data with date/time range included."
   ]
  },
  {
   "cell_type": "markdown",
   "metadata": {},
   "source": [
    "### Instructions\n",
    "\n",
    "1. Use the  __`open()`__ function to open the CSV file `potus_visitors_2015.csv`\n",
    "2. Use the __`reader()`__ function to read the opened file.\n",
    "3. Use the __`list()`__ function to convert the read file into a list of lists format.\n",
    "4. Assign the list of lists to the variable name `potus`.\n",
    "5. Remove the first row of the data set, which contains the column names."
   ]
  },
  {
   "cell_type": "code",
   "execution_count": 1,
   "metadata": {},
   "outputs": [],
   "source": [
    "from csv import reader\n",
    "\n",
    "opened_file = open('potus_visitors_2015.csv')\n",
    "read_file = reader(opened_file)\n",
    "potus = list(read_file)\n",
    "potus_head = potus[0]\n",
    "potus = potus[1:]"
   ]
  },
  {
   "cell_type": "markdown",
   "metadata": {},
   "source": [
    "---\n",
    "## Instructions\n",
    "\n",
    "- Import the `datetime` module with the alias `dt`\n",
    "\n",
    "#### Solution:\n"
   ]
  },
  {
   "cell_type": "code",
   "execution_count": 2,
   "metadata": {},
   "outputs": [],
   "source": [
    "import datetime as dt"
   ]
  },
  {
   "cell_type": "markdown",
   "metadata": {},
   "source": [
    "### Instructions\n",
    "\n",
    "- Import the __`datetime`__ class using the alias __`dt`__.\n",
    "- Instantiate a datetime object representing midnight on June 16, 1911. Assign the object to the variable name `ibm_founded`.\n",
    "- Instantiate a datetime object representing 8:17 p.m. on July 20, 1969. Assign the object to the variable name `man_on_moon`."
   ]
  },
  {
   "cell_type": "code",
   "execution_count": 3,
   "metadata": {},
   "outputs": [],
   "source": [
    "ibm_founded = dt.datetime(1911, 6, 16)\n",
    "man_on_moon = dt.datetime(1969, 7, 20, 20, 17)"
   ]
  },
  {
   "cell_type": "code",
   "execution_count": 4,
   "metadata": {},
   "outputs": [
    {
     "name": "stdout",
     "output_type": "stream",
     "text": [
      "1969-07-20 20:17:00\n"
     ]
    }
   ],
   "source": [
    "print(man_on_moon)"
   ]
  },
  {
   "cell_type": "markdown",
   "metadata": {},
   "source": [
    "### Instructions:\n",
    "\n",
    "1. Create a string __`date_format`__ that specifies the format of the __`appt_start_date`__ column:\n",
    "    - The format of the __`app_start_date`__ column is `{month}/{day}/{two digit year} {hour 24hr time}:{minute}`.\n",
    "    - Substitute each of the values inside braces with the appropriate strftime code from the table above.\n",
    "    \n",
    "    \n",
    "2. Iterate over each row in the potus list of lists:\n",
    "    - Assign the __`appt_start_date`__ column, found at index 2 of each row, to a variable.\n",
    "    - Use the __`datetime.strptime()`__ constructor to convert the variable from a string to a datetime object, using the __`date_format`__ string you created earlier.\n",
    "    - Assign the `datetime` object back to index 2 of the row."
   ]
  },
  {
   "cell_type": "code",
   "execution_count": 5,
   "metadata": {},
   "outputs": [],
   "source": [
    "dt_format_potus = '%m/%d/%y %H:%M'\n",
    "\n",
    "for row in potus:\n",
    "    start_date = row[2]\n",
    "    start_date = dt.datetime.strptime(start_date, dt_format_potus)\n",
    "    row[2] = start_date"
   ]
  },
  {
   "cell_type": "code",
   "execution_count": 6,
   "metadata": {
    "scrolled": true
   },
   "outputs": [
    {
     "name": "stdout",
     "output_type": "stream",
     "text": [
      "[['Joshua T. Blanton', '2014-12-18T00:00:00', datetime.datetime(2015, 1, 6, 9, 30), '1/6/15 23:59', '', 'potus', 'west wing', 'JointService Military Honor Guard']]\n"
     ]
    }
   ],
   "source": [
    "print(potus[:1])"
   ]
  },
  {
   "cell_type": "code",
   "execution_count": 7,
   "metadata": {},
   "outputs": [
    {
     "data": {
      "text/plain": [
       "['name',\n",
       " 'appt_made_date',\n",
       " 'appt_start_date',\n",
       " 'appt_end_date',\n",
       " 'visitee_namelast',\n",
       " 'visitee_namefirst',\n",
       " 'meeting_room',\n",
       " 'description']"
      ]
     },
     "execution_count": 7,
     "metadata": {},
     "output_type": "execute_result"
    }
   ],
   "source": [
    "potus_head"
   ]
  },
  {
   "cell_type": "markdown",
   "metadata": {},
   "source": [
    "### Instructions\n",
    "\n",
    "1. Initialize an empty dictionary, `visitors_per_month`.\n",
    "2. Iterate over the rows in the __`potus`__ list of lists. In each iteration:\n",
    "    - Assign the `datetime` object from the __`appt_start_date`__ column (index 2) to a variable.\n",
    "    - Call the __`datetime.strftime()`__ method on the __`appt_start_date`__ object to create a string in the format __`\"January, 1901\"`__.\n",
    "        - The format code for the name of the month is __`%B`__\n",
    "        - The format code for a four-digit year is __`%Y`__.\n",
    "    - If the string is not a key in __`visitors_per_month`__, add it as a key with a value of 1.\n",
    "    - Otherwise, add 1 to the existing value for that key."
   ]
  },
  {
   "cell_type": "code",
   "execution_count": 8,
   "metadata": {},
   "outputs": [],
   "source": [
    "visitors_per_month = {}\n",
    "new_format = '%B, %Y'\n",
    "\n",
    "for row in potus:\n",
    "    appt_start_date = row[2]\n",
    "    appt_start_date = dt.datetime.strftime(appt_start_date, new_format)\n",
    "    if appt_start_date in visitors_per_month:\n",
    "        visitors_per_month[appt_start_date] += 1\n",
    "    else:\n",
    "        visitors_per_month[appt_start_date] = 1"
   ]
  },
  {
   "cell_type": "code",
   "execution_count": 9,
   "metadata": {},
   "outputs": [
    {
     "data": {
      "text/plain": [
       "{'January, 2015': 1248,\n",
       " 'February, 2015': 2165,\n",
       " 'March, 2015': 2262,\n",
       " 'April, 2015': 4996,\n",
       " 'May, 2015': 3013,\n",
       " 'June, 2015': 7743,\n",
       " 'July, 2015': 2930,\n",
       " 'August, 2015': 1350,\n",
       " 'September, 2015': 4416,\n",
       " 'October, 2015': 3669,\n",
       " 'November, 2015': 1133,\n",
       " 'December, 2015': 13029}"
      ]
     },
     "execution_count": 9,
     "metadata": {},
     "output_type": "execute_result"
    }
   ],
   "source": [
    "visitors_per_month"
   ]
  },
  {
   "cell_type": "markdown",
   "metadata": {},
   "source": [
    "### Instructions\n",
    "\n",
    "1. Instantiate an empty __`appt_times`__ list.\n",
    "2. Iterate over each row in the __`potus`__ list of lists. For each iteration:\n",
    "    - Assign the __`datetime`__ object stored at index value 2 to a variable.\n",
    "    - Create a time object from the __`datetime`__ object.\n",
    "    - Append the time object to the __`appt_times`__ list."
   ]
  },
  {
   "cell_type": "code",
   "execution_count": 10,
   "metadata": {},
   "outputs": [],
   "source": [
    "appt_times = []\n",
    "\n",
    "for row in potus:\n",
    "    visit_time = row[2]\n",
    "    visit_time = visit_time.time()\n",
    "    appt_times.append(visit_time)"
   ]
  },
  {
   "cell_type": "markdown",
   "metadata": {},
   "source": [
    "### Instructions\n",
    "\n",
    "1. Assign the earliest appointment time from the `appt_times` list to the variable `min_time`.\n",
    "2. Assign the latest appointment time from the `appt_times` list to the variable `max_time`."
   ]
  },
  {
   "cell_type": "code",
   "execution_count": 11,
   "metadata": {},
   "outputs": [],
   "source": [
    "min_time = min(appt_times)\n",
    "max_time = max(appt_times)"
   ]
  },
  {
   "cell_type": "markdown",
   "metadata": {},
   "source": [
    "### Instructions\n",
    "\n",
    "1. Calculate the time between `dt_2` and `dt_1` and assign the result to `answer_1`.\n",
    "2. Add `56 days` to `dt_3` and assign the result to `answer_2`.\n",
    "3. Subtract `3600 seconds` from `dt_4` and assign the result to `answer_3`."
   ]
  },
  {
   "cell_type": "code",
   "execution_count": 12,
   "metadata": {},
   "outputs": [],
   "source": [
    "dt_1 = dt.datetime(1981, 1, 31)\n",
    "dt_2 = dt.datetime(1984, 6, 28)\n",
    "dt_3 = dt.datetime(2016, 5, 24)\n",
    "dt_4 = dt.datetime(2001, 1, 1, 8, 24, 13)\n",
    "\n",
    "answer_1 = dt_2 - dt_1\n",
    "answer_2 = dt_3 + dt.timedelta(days = 56)\n",
    "answer_3 = dt_4 + dt.timedelta(seconds = 3600)"
   ]
  },
  {
   "cell_type": "markdown",
   "metadata": {},
   "source": [
    "### Instructions\n",
    "\n",
    "We have provided code that converts the `appt_end_date` to `datetime` objects.\n",
    "\n",
    "1. Instantiate an empty dictionary for our frequency table, `appt_lengths`.\n",
    "2. Loop over each row in `potus`, and:\n",
    "    - Assign the values for `appt_start_date` (index 2) and `appt_end_date` (index 3) to variables.\n",
    "    - Subtract `appt_start_date` from `appt_end_date` to calculate the length of the appointment, `length`.\n",
    "        - __If length is not a key__ in `appt_lengths`, add it as a key with a value of `1`.\n",
    "        - __If length is a key in appt_lengths__, add 1 to the existing value of that key.\n",
    "3. Calculate the minimum key in `appt_lengths` and assign the result to `min_length`.\n",
    "4. Calculate the maximum key in `appt_lengths` and assign the result to `max_length`."
   ]
  },
  {
   "cell_type": "code",
   "execution_count": 13,
   "metadata": {},
   "outputs": [],
   "source": [
    "appt_lengths = {}\n",
    "\n",
    "for row in potus:\n",
    "\n",
    "    start_time = row[2]\n",
    "    end_time = row[3]\n",
    "    end_time = dt.datetime.strptime(end_time, dt_format_potus)\n",
    "    \n",
    "    length = end_time - start_time\n",
    "    \n",
    "    if length in appt_lengths:\n",
    "        appt_lengths[length] += 1\n",
    "    else:\n",
    "        appt_lengths[length] = 1\n",
    "        \n",
    "min_length = min(appt_lengths)\n",
    "max_length = max(appt_lengths)"
   ]
  },
  {
   "cell_type": "code",
   "execution_count": 14,
   "metadata": {
    "scrolled": true
   },
   "outputs": [
    {
     "name": "stdout",
     "output_type": "stream",
     "text": [
      "2:29:00\n"
     ]
    }
   ],
   "source": [
    "print(min_length)"
   ]
  },
  {
   "cell_type": "code",
   "execution_count": 15,
   "metadata": {},
   "outputs": [
    {
     "name": "stdout",
     "output_type": "stream",
     "text": [
      "16 days, 12:59:00\n"
     ]
    }
   ],
   "source": [
    "print(max_length)"
   ]
  }
 ],
 "metadata": {
  "kernelspec": {
   "display_name": "Python 3",
   "language": "python",
   "name": "python3"
  },
  "language_info": {
   "codemirror_mode": {
    "name": "ipython",
    "version": 3
   },
   "file_extension": ".py",
   "mimetype": "text/x-python",
   "name": "python",
   "nbconvert_exporter": "python",
   "pygments_lexer": "ipython3",
   "version": "3.7.4"
  }
 },
 "nbformat": 4,
 "nbformat_minor": 2
}
